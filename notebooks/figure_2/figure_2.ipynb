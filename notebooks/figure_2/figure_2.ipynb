{
 "cells": [
  {
   "cell_type": "code",
   "execution_count": 12,
   "metadata": {},
   "outputs": [],
   "source": [
    "PATH_FRC = \"\"\n",
    "PATH_DATA = \"\"\n",
    "PATH_MODELS = \"\""
   ]
  },
  {
   "cell_type": "code",
   "execution_count": 23,
   "metadata": {},
   "outputs": [],
   "source": [
    "import os\n",
    "import sys\n",
    "import glob\n",
    "from tqdm import tqdm\n",
    "\n",
    "import numpy as np\n",
    "import pandas as pd\n",
    "import tensorflow as tf\n",
    "import matplotlib\n",
    "import matplotlib.pyplot as plt\n",
    "import skimage\n",
    "from skimage.io import imread\n",
    "from skimage.filters import gaussian\n",
    "from skimage.transform import rescale, resize\n",
    "from skimage.filters import window\n",
    "import bm3d\n",
    "\n",
    "#provide path to the frc git repository\n",
    "sys.path.append(PATH_FRC)\n",
    "\n",
    "from models2 import FRCUnetModel\n",
    "\n",
    "matplotlib.rcParams.update({'mathtext.default':'regular'})\n",
    "matplotlib.rcParams.update({'font.size': 8})\n",
    "matplotlib.rcParams.update({'legend.fontsize': 8})\n",
    "matplotlib.rcParams.update({'axes.labelweight': 'bold'})"
   ]
  },
  {
   "cell_type": "code",
   "execution_count": 18,
   "metadata": {},
   "outputs": [],
   "source": [
    "def normalise_img(image):\n",
    "    image = image - image.min()\n",
    "    image = image/image.max() - 0.5\n",
    "    return image\n",
    "\n",
    "def load_model(model_dir, model_fname):\n",
    "    if model_dir is not None:\n",
    "        return FRCUnetModel(None, model_path=os.path.join(model_dir, model_fname))\n",
    "      \n",
    "def fourier_ring_correlation_by_ring(image1, image2, rn, spatial_freq):\n",
    "    # we need the channels first format for this loss\n",
    "    image1 = tf.transpose(image1, perm=[0, 3, 1, 2])\n",
    "    image2 = tf.transpose(image2, perm=[0, 3, 1, 2])\n",
    "    image1 = tf.cast(image1, tf.complex64)\n",
    "    image2 = tf.cast(image2, tf.complex64)\n",
    "    \n",
    "    rn = tf.cast(rn, tf.complex64)\n",
    "    fft_image1 = tf.signal.fftshift(tf.signal.fft2d(image1), axes=[2, 3])\n",
    "    fft_image2 = tf.signal.fftshift(tf.signal.fft2d(image2), axes=[2, 3])\n",
    "\n",
    "    t1 = tf.multiply(fft_image1, rn)  # (128, BS?, 3, 256, 256)\n",
    "    t2 = tf.multiply(fft_image2, rn)\n",
    "    c1 = tf.math.real(tf.reduce_sum(tf.multiply(t1, tf.math.conj(t2)), [2, 3, 4]))\n",
    "    c2 = tf.reduce_sum(tf.math.abs(t1) ** 2, [2, 3, 4])\n",
    "    c3 = tf.reduce_sum(tf.math.abs(t2) ** 2, [2, 3, 4])\n",
    "    frc = tf.math.divide(c1, tf.math.sqrt(tf.math.multiply(c2, c3)))\n",
    "    frc = tf.where(tf.compat.v1.is_inf(frc), tf.zeros_like(frc), frc)  # inf\n",
    "    frc = tf.where(tf.compat.v1.is_nan(frc), tf.zeros_like(frc), frc)  # nan\n",
    "    return frc  \n",
    "\n",
    "def make_set(input1,input2,dataset,radial_masks,spatial_freq):\n",
    "    output=[]\n",
    "    print(dataset)\n",
    "    for i in tqdm(range(50)):\n",
    "        if dataset == 'noisy_noisy':\n",
    "            denoised = input2[i]\n",
    "        elif dataset == 'noisy_gt':\n",
    "            denoised = input2[i]\n",
    "        elif dataset == 'denoised_n2n':\n",
    "            denoised = l2_model.model(np.reshape(input2[i], [1,256, 256,1]))\n",
    "            denoised = np.squeeze(denoised)\n",
    "        elif dataset == 'denoised_n2n_1000':\n",
    "            denoised = l2_1000_model.model(np.reshape(input2[i], [1,256, 256,1]))\n",
    "            denoised = np.squeeze(denoised)  \n",
    "        elif dataset == 'denoised_gaussian':\n",
    "            denoised = gaussian(input2[i],sigma=1,mode='wrap',cval=0)            \n",
    "        elif dataset == 'denoised_bm3d':\n",
    "            denoised = bm3d.bm3d(input2[i], sigma_psd=0.4, stage_arg=bm3d.BM3DStages.ALL_STAGES)\n",
    "   \n",
    "        frc = fourier_ring_correlation_by_ring(np.reshape(input1[i], [1,256, 256,1]), np.reshape(denoised,\\\n",
    "                                        [1,256, 256,1]), radial_masks, spatial_freq)\n",
    "        output.append(frc.numpy().T[0])\n",
    "        \n",
    "    output=np.stack(output)\n",
    "    output=output.mean(axis=0)\n",
    "    return output "
   ]
  },
  {
   "cell_type": "markdown",
   "metadata": {},
   "source": [
    "# Models"
   ]
  },
  {
   "cell_type": "code",
   "execution_count": 8,
   "metadata": {},
   "outputs": [],
   "source": [
    "l2_model=load_model(PATH_MODELS+/models/l2/noise04/', 'saved-model-epoch-200')"
   ]
  },
  {
   "cell_type": "code",
   "execution_count": 9,
   "metadata": {},
   "outputs": [],
   "source": [
    "l2_1000_model=load_model(PATH_MODELS+'/models/l2_1000/models/1/', 'saved-model-epoch-200')"
   ]
  },
  {
   "cell_type": "markdown",
   "metadata": {},
   "source": [
    "# Data preprocessing"
   ]
  },
  {
   "cell_type": "code",
   "execution_count": 15,
   "metadata": {},
   "outputs": [],
   "source": [
    "files=sorted(glob.glob(PATH_DATA+'/*'))\n",
    "clean_images=[]\n",
    "\n",
    "for file in files:\n",
    "    clean = imread(file)\n",
    "    if len(clean.shape) > 2:\n",
    "        clean = np.mean(clean, axis=2)\n",
    "    minsize = np.array(clean.shape).min()\n",
    "    clean = clean[:minsize,:minsize]\n",
    "    clean = tf.convert_to_tensor(clean)\n",
    "    clean = clean[tf.newaxis, ..., tf.newaxis]\n",
    "    clean = tf.image.resize(\n",
    "        clean, [256,256], method=tf.image.ResizeMethod.NEAREST_NEIGHBOR, preserve_aspect_ratio=True, \\\n",
    "        antialias=False, name=None)\n",
    "    clean=clean.numpy().squeeze()\n",
    "    clean = normalise_img(clean)\n",
    "    clean = clean.astype('float32')\n",
    "    clean = clean*window('hann', clean.shape) \n",
    "    clean_images.append(clean)\n",
    "\n",
    "clean_images = np.stack(clean_images)\n",
    "clean_images = clean_images[:50,:,:]"
   ]
  },
  {
   "cell_type": "code",
   "execution_count": 17,
   "metadata": {},
   "outputs": [],
   "source": [
    "noisy_images1 = clean_images.copy() + np.random.normal(0,0.4,256**2*50).reshape(50,256,256)\n",
    "noisy_images2 = clean_images.copy() + np.random.normal(0,0.4,256**2*50).reshape(50,256,256)"
   ]
  },
  {
   "cell_type": "code",
   "execution_count": 24,
   "metadata": {},
   "outputs": [
    {
     "name": "stderr",
     "output_type": "stream",
     "text": [
      "\r",
      "  0%|          | 0/50 [00:00<?, ?it/s]"
     ]
    },
    {
     "name": "stdout",
     "output_type": "stream",
     "text": [
      "noisy_noisy\n"
     ]
    },
    {
     "name": "stderr",
     "output_type": "stream",
     "text": [
      "100%|██████████| 50/50 [00:10<00:00,  4.91it/s]\n",
      "  2%|▏         | 1/50 [00:00<00:09,  5.12it/s]"
     ]
    },
    {
     "name": "stdout",
     "output_type": "stream",
     "text": [
      "noisy_gt\n"
     ]
    },
    {
     "name": "stderr",
     "output_type": "stream",
     "text": [
      "100%|██████████| 50/50 [00:10<00:00,  4.98it/s]\n",
      "  0%|          | 0/50 [00:00<?, ?it/s]"
     ]
    },
    {
     "name": "stdout",
     "output_type": "stream",
     "text": [
      "denoised_n2n\n"
     ]
    },
    {
     "name": "stderr",
     "output_type": "stream",
     "text": [
      "100%|██████████| 50/50 [00:17<00:00,  2.90it/s]\n",
      "  0%|          | 0/50 [00:00<?, ?it/s]"
     ]
    },
    {
     "name": "stdout",
     "output_type": "stream",
     "text": [
      "denoised_n2n_1000\n"
     ]
    },
    {
     "name": "stderr",
     "output_type": "stream",
     "text": [
      "100%|██████████| 50/50 [00:16<00:00,  2.96it/s]\n",
      "  2%|▏         | 1/50 [00:00<00:09,  5.39it/s]"
     ]
    },
    {
     "name": "stdout",
     "output_type": "stream",
     "text": [
      "denoised_gaussian\n"
     ]
    },
    {
     "name": "stderr",
     "output_type": "stream",
     "text": [
      "100%|██████████| 50/50 [00:09<00:00,  5.26it/s]\n",
      "  0%|          | 0/50 [00:00<?, ?it/s]"
     ]
    },
    {
     "name": "stdout",
     "output_type": "stream",
     "text": [
      "denoised_bm3d\n"
     ]
    },
    {
     "name": "stderr",
     "output_type": "stream",
     "text": [
      "100%|██████████| 50/50 [01:39<00:00,  1.99s/it]\n"
     ]
    }
   ],
   "source": [
    "rm = l2_model.radial_masks\n",
    "sf = l2_model.spatial_freq\n",
    "\n",
    "noisy_noisy = make_set(noisy_images1,noisy_images2,'noisy_noisy',rm,sf)\n",
    "noisy_gt = make_set(clean_images,noisy_images1,'noisy_gt',rm,sf)\n",
    "denoised_n2n = make_set(clean_images,noisy_images1,'denoised_n2n',rm,sf)\n",
    "denoised_n2n_1000 = make_set(clean_images,noisy_images1,'denoised_n2n_1000',rm,sf)\n",
    "denoised_gaussian = make_set(clean_images,noisy_images1,'denoised_gaussian',rm,sf)\n",
    "denoised_bm3d = make_set(clean_images,noisy_images2,'denoised_bm3d',rm,sf)\n",
    "\n",
    "data=pd.DataFrame([noisy_noisy, noisy_gt, denoised_n2n, denoised_n2n_1000, denoised_gaussian, denoised_bm3d]).T\n",
    "data.columns=['noisy_noisy', 'noisy_gt', 'denoised_n2n', 'denoised_n2n_1000', 'denoised_gaussian', 'denoised_bm3d']"
   ]
  },
  {
   "cell_type": "markdown",
   "metadata": {},
   "source": [
    "# Figure bottom"
   ]
  },
  {
   "cell_type": "code",
   "execution_count": 25,
   "metadata": {
    "scrolled": true
   },
   "outputs": [
    {
     "data": {
      "image/png": "[encoded data removed]",
      "text/plain": [
       "<Figure size 252x208.8 with 1 Axes>"
      ]
     },
     "metadata": {
      "needs_background": "light"
     },
     "output_type": "display_data"
    }
   ],
   "source": [
    "fig = plt.figure()\n",
    "fig.set_size_inches(3.5, 2.9)\n",
    "ax = fig.add_subplot(111)\n",
    "\n",
    "ax.plot(data.index/data.index.max(),data['noisy_noisy'] , label='Noisy-Noisy', lw=1.5, c='red')\n",
    "ax.plot(data.index/data.index.max(),data['noisy_gt'] , label='Noisy-GT', lw=1.5, c='green')\n",
    "ax.plot(data.index/data.index.max(),data['denoised_n2n_1000'] , label='N2N(G1000)-GT', lw=1.5, c='gray', ls='dashed')\n",
    "ax.plot(data.index/data.index.max(),data['denoised_gaussian'] , label='Blur-GT', lw=1.5, c='brown', ls='dotted')\n",
    "ax.plot(data.index/data.index.max(),data['denoised_bm3d'] , label='BM3D-GT', lw=1.5)\n",
    "ax.plot(data.index/data.index.max(),data['denoised_n2n'] , label='N2N-GT', lw=1.5, c='orange')\n",
    "\n",
    "ax.set_xlabel('f/N')\n",
    "ax.set_ylabel('FRC')\n",
    "\n",
    "plt.locator_params(axis='y', nbins=5)\n",
    "plt.locator_params(axis='x', nbins=5)\n",
    "plt.ylim([-0.03,1.05])\n",
    "plt.xlim([-0.03,1.05])\n",
    "\n",
    "legend_properties = { 'size':6}\n",
    "ax.legend(prop=legend_properties, loc=1, ncol=3, bbox_to_anchor=(1.015, 1.31) )\n",
    "fig.tight_layout()\n",
    "plt.tight_layout()\n",
    "fig.savefig('figure_2b.png', dpi=300) \n",
    "\n",
    "locs, labels = plt.xticks()"
   ]
  },
  {
   "cell_type": "markdown",
   "metadata": {},
   "source": [
    "# Figure top"
   ]
  },
  {
   "cell_type": "code",
   "execution_count": 30,
   "metadata": {},
   "outputs": [],
   "source": [
    "hause = imread('./c0911b81ee5266fa.jpg')\n",
    "hause = np.mean(hause, axis=2)[:,:]\n",
    "hause = normalise_img(hause)\n",
    "hause = hause.astype('float')\n",
    "hause = hause[:np.min(hause.shape),:np.min(hause.shape)]\n",
    "\n",
    "hause = hause[230:,180:]\n",
    "hause = hause[:256,:256]\n",
    "\n",
    "noisy_hause = hause + np.random.normal(0,0.4,256**2).reshape(256,256)\n",
    "denoised_hause = l2_model.model(np.reshape(noisy_hause, [1, 256, 256, 1]))\n",
    "denoised_hause = np.squeeze(denoised_hause)\n",
    "denoised_hause = normalise_img(denoised_hause)\n",
    "noisy_hause = normalise_img(noisy_hause)"
   ]
  },
  {
   "cell_type": "code",
   "execution_count": 31,
   "metadata": {},
   "outputs": [
    {
     "data": {
      "image/png": "[encoded data removed]",
      "text/plain": [
       "<Figure size 252x97.2 with 3 Axes>"
      ]
     },
     "metadata": {},
     "output_type": "display_data"
    }
   ],
   "source": [
    "fig = plt.figure(figsize=(2*1.75, 1.35*1))\n",
    "\n",
    "ax1 = fig.add_subplot(131)\n",
    "ax1.imshow(hause[:,:], cmap='gray')\n",
    "plt.xticks([])\n",
    "plt.yticks([])\n",
    "ax1.set_title('GT', size=8)\n",
    "\n",
    "ax2 = fig.add_subplot(132)\n",
    "ax2.imshow(noisy_hause[:,:], cmap='gray')\n",
    "ax2.set_title('Noisy')\n",
    "plt.xticks([])\n",
    "plt.yticks([])\n",
    "\n",
    "ax3 = fig.add_subplot(133)\n",
    "ax3.imshow(denoised_hause[:,:], cmap='gray')\n",
    "ax3.set_title('N2N denoised')\n",
    "plt.xticks([])\n",
    "plt.yticks([])\n",
    "\n",
    "plt.tight_layout()\n",
    "fig.savefig('figure_2a.png', dpi=300)"
   ]
  }
 ],
 "metadata": {
  "anaconda-cloud": {},
  "kernelspec": {
   "display_name": "Python 3",
   "language": "python",
   "name": "python3"
  },
  "language_info": {
   "codemirror_mode": {
    "name": "ipython",
    "version": 3
   },
   "file_extension": ".py",
   "mimetype": "text/x-python",
   "name": "python",
   "nbconvert_exporter": "python",
   "pygments_lexer": "ipython3",
   "version": "3.7.2"
  },
  "nav_menu": {},
  "toc": {
   "navigate_menu": true,
   "number_sections": true,
   "sideBar": true,
   "threshold": 6,
   "toc_cell": false,
   "toc_section_display": "block",
   "toc_window_display": false
  }
 },
 "nbformat": 4,
 "nbformat_minor": 1
}
