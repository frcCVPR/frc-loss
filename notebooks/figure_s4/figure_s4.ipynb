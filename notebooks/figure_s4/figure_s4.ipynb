{
 "cells": [
  {
   "cell_type": "code",
   "execution_count": 5,
   "metadata": {},
   "outputs": [],
   "source": [
    "#Fill the paths below\n",
    "PATH_FRC = \"\" # git repo directory path\n",
    "PATH_ZENODO = \"\" # Data and models are available here: https://zenodo.org/record/5831014#.YdnW_VjMLeo\n",
    "\n",
    "GAUSS_L2_MODEL = PATH_ZENODO+'/models/gaussian/noise04/l2/' # noise 0.4\n",
    "DATA_TEST = PATH_ZENODO+'/data/goi_1000/test_50/*.jpg'\n",
    "\n",
    "GAUSS_L2_MODEL_FLAT = PATH_ZENODO+'/models/gaussian/noise005_set1000/flat/' # noise 0.05\n",
    "DATA_FLAT = PATH_ZENODO+'/data/goi_1000/flat_1000/*.png'"
   ]
  },
  {
   "cell_type": "code",
   "execution_count": 6,
   "metadata": {},
   "outputs": [],
   "source": [
    "import sys\n",
    "sys.path.append(PATH_FRC)\n",
    "\n",
    "import glob\n",
    "import os\n",
    "import skimage\n",
    "%matplotlib inline\n",
    "import matplotlib.pyplot as plt\n",
    "from skimage.io import imread\n",
    "import numpy as np\n",
    "import matplotlib\n",
    "\n",
    "import tensorflow as tf\n",
    "from models2 import FRCUnetModel\n",
    "from skimage.filters import window\n",
    "from tqdm import tqdm\n",
    "import pandas as pd\n",
    "\n",
    "matplotlib.rcParams.update({'mathtext.default':'regular'})\n",
    "matplotlib.rcParams.update({'font.size': 8})\n",
    "matplotlib.rcParams.update({'axes.labelweight': 'bold'})"
   ]
  },
  {
   "cell_type": "code",
   "execution_count": 7,
   "metadata": {},
   "outputs": [],
   "source": [
    "def normalise_img(image):\n",
    "    image = image - image.min()\n",
    "    image = image/image.max() - 0.5\n",
    "    return image\n",
    "\n",
    "def load_model(model_dir, model_fname):\n",
    "    if model_dir is not None:\n",
    "        return FRCUnetModel(None, model_path=os.path.join(model_dir, model_fname))\n",
    "      \n",
    "def fourier_ring_correlation_by_ring(image1, image2, rn, spatial_freq):\n",
    "    # we need the channels first format for this loss\n",
    "    image1 = tf.transpose(image1, perm=[0, 3, 1, 2])\n",
    "    image2 = tf.transpose(image2, perm=[0, 3, 1, 2])\n",
    "    image1 = tf.cast(image1, tf.complex64)\n",
    "    image2 = tf.cast(image2, tf.complex64)\n",
    "    rn = tf.cast(rn, tf.complex64)\n",
    "    fft_image1 = tf.signal.fftshift(tf.signal.fft2d(image1), axes=[2, 3])\n",
    "    fft_image2 = tf.signal.fftshift(tf.signal.fft2d(image2), axes=[2, 3])\n",
    "\n",
    "    t1 = tf.multiply(fft_image1, rn)  # (128, BS?, 3, 256, 256)\n",
    "    t2 = tf.multiply(fft_image2, rn)\n",
    "    c1 = tf.math.real(tf.reduce_sum(tf.multiply(t1, tf.math.conj(t2)), [2, 3, 4]))\n",
    "    c2 = tf.reduce_sum(tf.math.abs(t1) ** 2, [2, 3, 4])\n",
    "    c3 = tf.reduce_sum(tf.math.abs(t2) ** 2, [2, 3, 4])\n",
    "    frc = tf.math.divide(c1, tf.math.sqrt(tf.math.multiply(c2, c3)))\n",
    "    frc = tf.where(tf.compat.v1.is_inf(frc), tf.zeros_like(frc), frc)  # inf\n",
    "    frc = tf.where(tf.compat.v1.is_nan(frc), tf.zeros_like(frc), frc)  # nan\n",
    "    return frc  \n",
    "\n",
    "def add_noise(im):\n",
    "    noise1=np.random.normal(0,0.4,256**2*50).reshape(50,256,256)\n",
    "    return im.copy() + noise1"
   ]
  },
  {
   "cell_type": "markdown",
   "metadata": {},
   "source": [
    "# Averaging"
   ]
  },
  {
   "cell_type": "code",
   "execution_count": 8,
   "metadata": {},
   "outputs": [],
   "source": [
    "cleans_mean=[]\n",
    "for file in sorted(glob.glob(DATA_TEST+'/*')):\n",
    "    clean = imread(file)\n",
    "    if len(clean.shape) > 2:\n",
    "        clean = np.mean(clean, axis=2)\n",
    "    minsize = np.array(clean.shape).min()\n",
    "    clean = clean[:minsize,:minsize]\n",
    "    \n",
    "    clean=tf.convert_to_tensor(clean)\n",
    "    clean=clean[tf.newaxis, ..., tf.newaxis]\n",
    "\n",
    "    clean=tf.image.resize(\n",
    "    clean, [256,256], method=tf.image.ResizeMethod.NEAREST_NEIGHBOR, preserve_aspect_ratio=True, antialias=False, name=None)\n",
    "    clean=clean.numpy().squeeze()\n",
    "    clean = normalise_img(clean)\n",
    "    clean = clean.astype('float32')\n",
    "    clean = clean*window('hann', clean.shape) #window('hann', clean.shape)\n",
    "    cleans_mean.append(clean)\n",
    "    \n",
    "cleans_mean=np.stack(cleans_mean)\n",
    "cleans_mean=cleans_mean[:50,:,:]"
   ]
  },
  {
   "cell_type": "code",
   "execution_count": 9,
   "metadata": {},
   "outputs": [],
   "source": [
    "l2_model=load_model(GAUSS_L2_MODEL, 'saved-model-epoch-200')"
   ]
  },
  {
   "cell_type": "code",
   "execution_count": 10,
   "metadata": {},
   "outputs": [],
   "source": [
    "noise_evaluations=[]\n",
    "for i in range(200):\n",
    "    noise_evaluations.append(add_noise(cleans_mean))  \n",
    "    \n",
    "noise_evaluations=np.array(noise_evaluations)"
   ]
  },
  {
   "cell_type": "code",
   "execution_count": 11,
   "metadata": {},
   "outputs": [],
   "source": [
    "noisy_clean=[]\n",
    "for i in range(50):\n",
    "    frc = fourier_ring_correlation_by_ring(np.reshape(cleans_mean[i], [1,256, 256,1]), np.reshape(noise_evaluations[0][i], [1,256, 256,1]), \n",
    "                                         l2_model.radial_masks, l2_model.spatial_freq)\n",
    "    noisy_clean.append(frc.numpy().T[0])\n",
    "    \n",
    "noisy_clean_raw=np.stack(noisy_clean)\n",
    "noisy_clean=noisy_clean_raw.mean(axis=0)"
   ]
  },
  {
   "cell_type": "code",
   "execution_count": 12,
   "metadata": {},
   "outputs": [],
   "source": [
    "mean_noisy= noise_evaluations.mean(axis=0)\n",
    "mean_clean=[]\n",
    "for i in range(50):\n",
    "    frc = fourier_ring_correlation_by_ring(np.reshape(cleans_mean[i], [1,256, 256,1]), np.reshape(mean_noisy[i], [1,256, 256,1]), \n",
    "                                         l2_model.radial_masks, l2_model.spatial_freq)\n",
    "    mean_clean.append(frc.numpy().T[0])\n",
    "    \n",
    "mean_clean_raw=np.stack(mean_clean)\n",
    "mean_clean=mean_clean_raw.mean(axis=0)"
   ]
  },
  {
   "cell_type": "code",
   "execution_count": 13,
   "metadata": {},
   "outputs": [],
   "source": [
    "denoised_n2n=[]\n",
    "for i in range(50):\n",
    "    \n",
    "    denoised = l2_model.model(np.reshape(noise_evaluations[0][i], [1,256, 256,1]))\n",
    "    denoised = np.squeeze(denoised)\n",
    "    \n",
    "    frc = fourier_ring_correlation_by_ring(np.reshape(cleans_mean[i], [1,256, 256,1]), np.reshape(denoised, [1,256, 256,1]), \n",
    "                                         l2_model.radial_masks, l2_model.spatial_freq)\n",
    "    denoised_n2n.append(frc.numpy().T[0])\n",
    "    \n",
    "denoised_n2n_raw = np.stack(denoised_n2n)\n",
    "denoised_n2n = denoised_n2n_raw.mean(axis=0)"
   ]
  },
  {
   "cell_type": "code",
   "execution_count": 14,
   "metadata": {},
   "outputs": [
    {
     "name": "stderr",
     "output_type": "stream",
     "text": [
      "100%|██████████| 200/200 [24:39<00:00,  7.40s/it]\n"
     ]
    }
   ],
   "source": [
    "denoised_evaluations=[]\n",
    "for j in tqdm(range(200)):\n",
    "    batch=[]\n",
    "    for i in range(50):\n",
    "        denoised = l2_model.model(np.reshape(noise_evaluations[j][i], [1,256, 256,1]))\n",
    "        denoised = np.squeeze(denoised)\n",
    "        batch.append(denoised)\n",
    "    denoised_evaluations.append(batch)"
   ]
  },
  {
   "cell_type": "code",
   "execution_count": 15,
   "metadata": {},
   "outputs": [],
   "source": [
    "denoised_evaluations=np.array(denoised_evaluations)\n",
    "mean_denoised = denoised_evaluations.mean(axis=0)\n",
    "mean_denoised_clean=[]\n",
    "for i in range(50):\n",
    "    frc = fourier_ring_correlation_by_ring(np.reshape(cleans_mean[i], [1,256, 256,1]), np.reshape(mean_denoised[i], [1,256, 256,1]), \n",
    "                                         l2_model.radial_masks, l2_model.spatial_freq)\n",
    "    mean_denoised_clean.append(frc.numpy().T[0])\n",
    "    \n",
    "mean_denoised_clean_raw=np.stack(mean_denoised_clean)\n",
    "mean_denoised_clean=mean_denoised_clean_raw.mean(axis=0)"
   ]
  },
  {
   "cell_type": "code",
   "execution_count": 16,
   "metadata": {},
   "outputs": [],
   "source": [
    "data_mean=pd.DataFrame([noisy_clean, denoised_n2n, mean_clean, mean_denoised_clean ]).T\n",
    "data_mean.columns=['Noisy-GT', 'N2N', 'MeanN-GT',  'MeanD-GT' ]"
   ]
  },
  {
   "cell_type": "markdown",
   "metadata": {},
   "source": [
    "# Frequency Bias"
   ]
  },
  {
   "cell_type": "code",
   "execution_count": 17,
   "metadata": {},
   "outputs": [],
   "source": [
    "l2_1000_model_flat=load_model(GAUSS_L2_MODEL_FLAT, 'saved-model-epoch-200')"
   ]
  },
  {
   "cell_type": "code",
   "execution_count": 18,
   "metadata": {},
   "outputs": [],
   "source": [
    "files_flat=sorted(glob.glob(DATA_FLAT))\n",
    "files_flat=files_flat[:50]"
   ]
  },
  {
   "cell_type": "code",
   "execution_count": 19,
   "metadata": {},
   "outputs": [
    {
     "data": {
      "text/plain": [
       "(50, 256, 256)"
      ]
     },
     "execution_count": 19,
     "metadata": {},
     "output_type": "execute_result"
    }
   ],
   "source": [
    "cleans_flat=[]\n",
    "for file in files_flat:\n",
    "    clean = imread(file)\n",
    "    if len(clean.shape) > 2:\n",
    "        clean = np.mean(clean, axis=2)\n",
    "    minsize = np.array(clean.shape).min()\n",
    "    clean = clean[:minsize,:minsize]\n",
    "    clean = normalise_img(clean)\n",
    "    clean = clean.astype('float32')\n",
    "    clean = clean*window('hann', clean.shape)\n",
    "    cleans_flat.append(clean)\n",
    "cleans_flat=np.stack(cleans_flat)\n",
    "cleans_flat.shape"
   ]
  },
  {
   "cell_type": "code",
   "execution_count": 20,
   "metadata": {},
   "outputs": [],
   "source": [
    "noise=np.random.normal(0,0.05,256**2*50).reshape(50,256,256)\n",
    "noisy_flat=cleans_flat.copy()+noise"
   ]
  },
  {
   "cell_type": "code",
   "execution_count": 21,
   "metadata": {},
   "outputs": [],
   "source": [
    "noisy_clean_flat=[]\n",
    "for i in range(50):\n",
    "    frc = fourier_ring_correlation_by_ring(np.reshape(cleans_flat[i], [1,256, 256,1]), np.reshape(noisy_flat[i], [1,256, 256,1]), \n",
    "                                         l2_1000_model_flat.radial_masks, l2_1000_model_flat.spatial_freq)\n",
    "    noisy_clean_flat.append(frc.numpy().T[0])\n",
    "    \n",
    "noisy_clean_flat_raw=np.stack(noisy_clean_flat)\n",
    "noisy_clean_flat=noisy_clean_flat_raw.mean(axis=0)"
   ]
  },
  {
   "cell_type": "code",
   "execution_count": 22,
   "metadata": {},
   "outputs": [],
   "source": [
    "denoised_flat=[]\n",
    "for i in range(50):\n",
    "    \n",
    "    denoised = l2_1000_model_flat.model(np.reshape(noisy_flat[i], [1,256, 256,1]))\n",
    "    denoised = np.squeeze(denoised)\n",
    "    \n",
    "    frc = fourier_ring_correlation_by_ring(np.reshape(cleans_flat[i], [1,256, 256,1]), np.reshape(denoised, [1,256, 256,1]), \n",
    "                                         l2_1000_model_flat.radial_masks, l2_1000_model_flat.spatial_freq)\n",
    "    denoised_flat.append(frc.numpy().T[0])\n",
    "    \n",
    "denoised_flat_raw=np.stack(denoised_flat)\n",
    "denoised_flat=denoised_flat_raw.mean(axis=0)"
   ]
  },
  {
   "cell_type": "code",
   "execution_count": 23,
   "metadata": {},
   "outputs": [],
   "source": [
    "data_flat=pd.DataFrame([noisy_clean_flat, denoised_flat]).T\n",
    "data_flat.columns=['Noisy-GT-flat', 'N2N-flat' ]"
   ]
  },
  {
   "cell_type": "code",
   "execution_count": 24,
   "metadata": {},
   "outputs": [
    {
     "data": {
      "image/png": "[encoded data removed]",
      "text/plain": [
       "<Figure size 252x360 with 2 Axes>"
      ]
     },
     "metadata": {
      "needs_background": "light"
     },
     "output_type": "display_data"
    }
   ],
   "source": [
    "fig = plt.figure()\n",
    "fig.set_size_inches(3.5, 5)#(3.5, 5.9) # 3.5 inch is the width of one column in A4 paper \n",
    "\n",
    "##Subplot 1 \n",
    "ax = fig.add_subplot(211)\n",
    "\n",
    "plt.gcf().text(0.05, 0.93, 'A', fontsize=10,weight = 'bold')\n",
    "legend_properties = { 'size':6}\n",
    "\n",
    "ax.plot(data_flat.index/data_flat.index.max(),data_flat['Noisy-GT-flat'] , label='Noisy-GT(flat spectrum)', lw=1.5, c='red')\n",
    "ax.plot(data_flat.index/data_flat.index.max(),data_flat['N2N-flat'] , label='N2N-GT(flat spectrum)', lw=1.5, c='gray', ls='dashed')\n",
    "\n",
    "ax.set_xlabel('f/N')\n",
    "ax.set_ylabel('FRC')\n",
    "\n",
    "plt.locator_params(axis='y', nbins=5)\n",
    "plt.locator_params(axis='x', nbins=5)\n",
    "plt.ylim([-0.03,1.05])\n",
    "plt.xlim([-0.03,1.05])\n",
    "\n",
    "ax.legend(prop=legend_properties, loc=1, ncol=3, bbox_to_anchor=(1.015, 1.31) )\n",
    "fig.tight_layout()\n",
    "\n",
    "##Subplot 2\n",
    "ax = fig.add_subplot(212)\n",
    "\n",
    "plt.gcf().text(0.05, 0.5, 'B', fontsize=10,weight = 'bold')\n",
    "\n",
    "legend_properties = { 'size':6}\n",
    "\n",
    "ax.plot(data_mean.index/data_mean.index.max(),data_mean['Noisy-GT'] , label='Noisy-GT', lw=1.5, c='green')\n",
    "ax.plot(data_mean.index/data_mean.index.max(),data_mean['N2N'] , label='N2N-GT', lw=1.5, c='orange')\n",
    "ax.plot(data_mean.index/data_mean.index.max(),data_mean['MeanD-GT'] , label=r'$N2N_{<200>}-GT$', lw=1.5, c='orange', ls='dashed')\n",
    "ax.plot(data_mean.index/data_mean.index.max(),data_mean['MeanN-GT'] , label=r'$Noisy_{<200>}-GT$', lw=1.5, c='green', ls='dashed')\n",
    "\n",
    "ax.set_xlabel('f/N')\n",
    "ax.set_ylabel('FRC')\n",
    "\n",
    "plt.locator_params(axis='y', nbins=5)\n",
    "plt.locator_params(axis='x', nbins=5)\n",
    "plt.ylim([-0.03,1.05])\n",
    "plt.xlim([-0.03,1.05])\n",
    "\n",
    "ax.legend(prop=legend_properties, loc=1, ncol=3, bbox_to_anchor=(1.015, 1.31) )\n",
    "\n",
    "fig.tight_layout()\n",
    "fig.savefig('figure_s4.png', dpi=300) # dpi 300-200 "
   ]
  }
 ],
 "metadata": {
  "anaconda-cloud": {},
  "kernelspec": {
   "display_name": "Python 3",
   "language": "python",
   "name": "python3"
  },
  "language_info": {
   "codemirror_mode": {
    "name": "ipython",
    "version": 3
   },
   "file_extension": ".py",
   "mimetype": "text/x-python",
   "name": "python",
   "nbconvert_exporter": "python",
   "pygments_lexer": "ipython3",
   "version": "3.7.2"
  },
  "nav_menu": {},
  "toc": {
   "navigate_menu": true,
   "number_sections": true,
   "sideBar": true,
   "threshold": 6,
   "toc_cell": false,
   "toc_section_display": "block",
   "toc_window_display": false
  }
 },
 "nbformat": 4,
 "nbformat_minor": 1
}
