{
 "cells": [
  {
   "cell_type": "code",
   "execution_count": 1,
   "metadata": {},
   "outputs": [],
   "source": [
    "PATH_FRC = \"\"\n",
    "\n",
    "GAUSS_L2_MODEL = './gaussian_l2/models/1/'\n",
    "GAUSS_FRC_MODEL = './gaussian_frc/models/1/'\n",
    "GAUSS_L1_MODEL = './gaussian_l1/models/1/'\n",
    "\n",
    "GOI_IMAGES = './google_data/test/*.jpg'"
   ]
  },
  {
   "cell_type": "code",
   "execution_count": 2,
   "metadata": {},
   "outputs": [],
   "source": [
    "import os\n",
    "import sys\n",
    "import glob\n",
    "from tqdm import tqdm\n",
    "\n",
    "import numpy as np\n",
    "import matplotlib\n",
    "import pandas as pd\n",
    "\n",
    "import logging\n",
    "import tensorflow as tf\n",
    "tf.get_logger().setLevel(logging.ERROR)\n",
    "\n",
    "import skimage\n",
    "import matplotlib.pyplot as plt\n",
    "from skimage.io import imread\n",
    "from skimage.metrics import mean_squared_error,structural_similarity\n",
    "from skimage.measure import compare_psnr#, compare_ssim#, compare_mse\n",
    "\n",
    "sys.path.append(PATH_FRC)\n",
    "\n",
    "from dataset import create_list_dataset, process_image_single, add_noise\n",
    "from models2 import FRCUnetModel\n",
    "from functools import partial\n",
    "\n",
    "import tensorflow_probability as tfp\n",
    "\n",
    "matplotlib.rcParams.update({'mathtext.default':'regular'})\n",
    "matplotlib.rcParams.update({'font.size': 8})\n",
    "matplotlib.rcParams.update({'axes.labelweight': 'bold'})\n",
    "matplotlib.rcParams.update({'axes.titleweight': 'bold'})"
   ]
  },
  {
   "cell_type": "code",
   "execution_count": 75,
   "metadata": {},
   "outputs": [],
   "source": [
    "def normalise_img(image):\n",
    "    image = image - image.min()\n",
    "    image = image/image.max() - 0.5\n",
    "    return image\n",
    "\n",
    "def load_data(DATA_LOCATION, resize=True):\n",
    "    clean_images=[]\n",
    "    for file in sorted(glob.glob(DATA_LOCATION)):\n",
    "        clean = imread(file)\n",
    "        if len(clean.shape) > 2:\n",
    "            clean = np.mean(clean, axis=2)\n",
    "        if resize:\n",
    "            minsize = np.array(clean.shape).min()\n",
    "            clean = clean[:minsize,:minsize]\n",
    "            clean=tf.convert_to_tensor(clean)\n",
    "            clean=clean[tf.newaxis, ..., tf.newaxis]\n",
    "            clean=tf.image.resize(\n",
    "            clean, [256,256], method=tf.image.ResizeMethod.NEAREST_NEIGHBOR, \\\n",
    "                preserve_aspect_ratio=True, antialias=False, name=None)\n",
    "            clean=clean.numpy().squeeze()\n",
    "        clean = normalise_img(clean)\n",
    "        clean = clean.astype('float32')\n",
    "        clean_images.append(clean)\n",
    "    return clean_images\n",
    "\n",
    "def load_model(model_dir, model_fname):\n",
    "    if model_dir is not None:\n",
    "        return FRCUnetModel(None, model_path=os.path.join(model_dir, model_fname))\n",
    "\n",
    "def fourier_ring_correlation_by_ring(image1, image2, rn, spatial_freq):\n",
    "    # we need the channels first format for this loss\n",
    "    image1 = tf.transpose(image1, perm=[0, 3, 1, 2])\n",
    "    image2 = tf.transpose(image2, perm=[0, 3, 1, 2])\n",
    "    image1 = tf.cast(image1, tf.complex64)\n",
    "    image2 = tf.cast(image2, tf.complex64)\n",
    "    rn = tf.cast(rn, tf.complex64)\n",
    "    fft_image1 = tf.signal.fftshift(tf.signal.fft2d(image1), axes=[2, 3])\n",
    "    fft_image2 = tf.signal.fftshift(tf.signal.fft2d(image2), axes=[2, 3])\n",
    "\n",
    "    t1 = tf.multiply(fft_image1, rn)  # (128, BS?, 3, 256, 256)\n",
    "    t2 = tf.multiply(fft_image2, rn)\n",
    "    c1 = tf.math.real(tf.reduce_sum(tf.multiply(t1, tf.math.conj(t2)), [2, 3, 4]))\n",
    "    c2 = tf.reduce_sum(tf.math.abs(t1) ** 2, [2, 3, 4])\n",
    "    c3 = tf.reduce_sum(tf.math.abs(t2) ** 2, [2, 3, 4])\n",
    "    frc = tf.math.divide(c1, tf.math.sqrt(tf.math.multiply(c2, c3)))\n",
    "    frc = tf.where(tf.compat.v1.is_inf(frc), tf.zeros_like(frc), frc)  # inf\n",
    "    frc = tf.where(tf.compat.v1.is_nan(frc), tf.zeros_like(frc), frc)  # nan\n",
    "    \n",
    "    riemann_sum = tf.reduce_sum(tf.multiply(spatial_freq[1:] - spatial_freq[:-1], (frc[:-1] + frc[1:]) / 2.), 0)\n",
    "    return frc.numpy().T[0], riemann_sum.numpy()[0]\n",
    " \n",
    "def get_stats(model, image, noisy_image,radial_masks, spatial_freq):\n",
    "    \n",
    "    denoised = model(np.reshape(noisy_image, [1,256, 256,1]))\n",
    "    denoised = model.scale(denoised) - 0.5\n",
    "    mse = mean_squared_error(np.squeeze(image), np.squeeze(denoised))\n",
    "    ssim = structural_similarity(np.squeeze(image), np.squeeze(denoised))\n",
    "    frc_by_ring, frc = fourier_ring_correlation_by_ring(np.reshape(image, [1,256, 256,1]),\\\n",
    "                                                np.reshape(denoised, [1,256, 256,1]), \n",
    "                                         radial_masks, spatial_freq)\n",
    "    \n",
    "    return denoised, mse, ssim, frc, frc_by_ring\n",
    "\n",
    "def process_set(im_data,L2_MODEL,FRC_MODEL,L1_MODEL,model_names,\\\n",
    "                noise_model='lognormal', im_data_odd=None):\n",
    "    results = [[],[],[]]\n",
    "\n",
    "    for a,model_name in tqdm(enumerate(model_names[:])):\n",
    "        mse_model = load_model(L2_MODEL, model_name)\n",
    "        frc_model = load_model(FRC_MODEL, model_name)\n",
    "        mae_model = load_model(L1_MODEL, model_name)\n",
    "        if a == 0:\n",
    "            radial_masks,spatial_freq = mse_model.radial_masks, mse_model.spatial_freq\n",
    "        mse_stats,frc_stats,mae_stats = [],[],[]\n",
    "\n",
    "        for idx, image in enumerate(im_data):\n",
    "            if noise_model == 'lognormal':\n",
    "                noise=np.random.lognormal(0,1.3,256**2).reshape(256,256) -1\n",
    "                noisy_image=im_data[idx]+noise\n",
    "            elif noise_model == 'normal':\n",
    "                noise=np.random.normal(0,0.4,256**2).reshape(256,256)\n",
    "                noisy_image=im_data[idx]+noise\n",
    "            elif noise_model == None:\n",
    "                noisy_image = im_data_odd[idx]\n",
    "                        \n",
    "\n",
    "            mse_stats.append(get_stats(mse_model, image, noisy_image,radial_masks,spatial_freq)[-1])\n",
    "            mae_stats.append(get_stats(mae_model, image, noisy_image,radial_masks,spatial_freq)[-1])\n",
    "            frc_stats.append(get_stats(frc_model, image, noisy_image,radial_masks,spatial_freq)[-1])\n",
    "        \n",
    "        results[0].append(mse_stats)\n",
    "        results[1].append(mae_stats)\n",
    "        results[2].append(frc_stats)\n",
    "    return results"
   ]
  },
  {
   "cell_type": "code",
   "execution_count": 4,
   "metadata": {},
   "outputs": [],
   "source": [
    "goi_test_images = load_data(GOI_IMAGES)\n",
    "model_names = ['saved-model-batch-{}'.format(idx) for idx in [2 ** x for x in range(20)]]"
   ]
  },
  {
   "cell_type": "code",
   "execution_count": 76,
   "metadata": {},
   "outputs": [
    {
     "name": "stderr",
     "output_type": "stream",
     "text": [
      "20it [17:45, 53.29s/it]\n"
     ]
    }
   ],
   "source": [
    "#Expensive loop, mostly because of slow model loading, and we load here hundreds of models\n",
    "gaussian_noise = process_set(goi_test_images,GAUSS_L2_MODEL,GAUSS_FRC_MODEL,GAUSS_L1_MODEL,model_names[:],\\\n",
    "                noise_model='normal')"
   ]
  },
  {
   "cell_type": "code",
   "execution_count": 77,
   "metadata": {},
   "outputs": [],
   "source": [
    "average_gaussian_noise = np.array(gaussian_noise,dtype=object)\n",
    "average_gaussian_noise = average_gaussian_noise.mean(axis=2)"
   ]
  },
  {
   "cell_type": "code",
   "execution_count": 78,
   "metadata": {},
   "outputs": [
    {
     "data": {
      "text/plain": [
       "(3, 20, 128)"
      ]
     },
     "execution_count": 78,
     "metadata": {},
     "output_type": "execute_result"
    }
   ],
   "source": [
    "average_gaussian_noise.shape"
   ]
  },
  {
   "cell_type": "code",
   "execution_count": 80,
   "metadata": {},
   "outputs": [
    {
     "data": {
      "image/png": "[encoded data removed]",
      "text/plain": [
       "<Figure size 504x432 with 6 Axes>"
      ]
     },
     "metadata": {
      "needs_background": "light"
     },
     "output_type": "display_data"
    }
   ],
   "source": [
    "from matplotlib import ticker, cm\n",
    "from mpl_toolkits.axes_grid1 import make_axes_locatable\n",
    "\n",
    "levels = np.arange(-1.0, 1.01, 0.5)\n",
    "lx=['0.0', '0.25', '0.5', '0.75', '1.0']\n",
    "\n",
    "fig = plt.figure(figsize=(7, 6))\n",
    "ax1 = fig.add_subplot(311)\n",
    "im=ax1.imshow(average_gaussian_noise[2,:,:].astype('float'), cmap='twilight_shifted',vmin=-0.5, vmax=1.0)\n",
    "ax1.set_title(r'$\\mathcal{L}_{\\mathrm{FRC}}$', size=12)\n",
    "plt.ylabel(r'$Log_2$ t. steps')\n",
    "ax1.set_xlabel('f/N')\n",
    "#ax1.set_xticklabels(lx)\n",
    "plt.xticks(np.arange(0,129, 32), lx)#, rotation='vertical')\n",
    "plt.yticks(np.arange(0,21, 10), ['0','10','20'])#, rotation='vertical')\n",
    "\n",
    "divider = make_axes_locatable(ax1)\n",
    "#cax = divider.append_axes(\"right\", size=\"5%\", pad=0.05)\n",
    "cax = divider.new_horizontal(size=\"5%\", pad=0.05)\n",
    "fig = ax1.get_figure()\n",
    "fig.add_axes(cax)\n",
    "\n",
    "#plt.clim(0, 1.0)\n",
    "cbar = plt.colorbar(im, ticks=levels ,cax=cax)\n",
    "cbar.set_label(r'FRC', rotation=270,labelpad=10)\n",
    "\n",
    "\n",
    "ax2 = fig.add_subplot(312)\n",
    "im=ax2.imshow(average_gaussian_noise[0,:,:].astype('float'), cmap='twilight_shifted',vmin=-0.5, vmax=1.0)\n",
    "ax2.set_title(r'$\\mathcal{L}_{2}$', size=12)\n",
    "ax2.set_xlabel('f/N')\n",
    "plt.xticks(np.arange(0,129, 32), lx)#, rotation='vertical')\n",
    "plt.yticks(np.arange(0,21, 10), ['0','10','20'])#, rotation='vertical')\n",
    "\n",
    "plt.ylabel(r'$Log_2$ t. steps')\n",
    "#plt.text(0.0, 0.5, 'Training steps', rotation=90)\n",
    "\n",
    "divider = make_axes_locatable(ax2)\n",
    "#cax = divider.append_axes(\"right\", size=\"5%\", pad=0.05)\n",
    "cax = divider.new_horizontal(size=\"5%\", pad=0.05)\n",
    "fig = ax2.get_figure()\n",
    "fig.add_axes(cax)\n",
    "\n",
    "#plt.clim(0, 1.0)\n",
    "cbar = plt.colorbar(im, ticks=levels ,cax=cax)\n",
    "cbar.set_label(r'FRC', rotation=270,labelpad=10)\n",
    "cbar.vmax=1.0\n",
    "cbar.vmin=0\n",
    "#cbar.set_ticks([0,0.5,1.0])\n",
    "\n",
    "ax3 = fig.add_subplot(313)\n",
    "im=ax3.imshow(average_gaussian_noise[1,:,:].astype('float'), cmap='twilight_shifted',vmin=-0.5, vmax=1.0)\n",
    "ax3.set_title(r'$\\mathcal{L}_{1}$', size=12)\n",
    "\n",
    "\n",
    "labels = [item.get_text() for item in ax3.get_xticklabels()]\n",
    "plt.ylabel(r'$Log_2$ t. steps')\n",
    "ax3.set_xlabel('f/N')\n",
    "plt.xticks(np.arange(0,129, 32), lx)#, rotation='vertical')\n",
    "plt.yticks(np.arange(0,21, 10), ['0','10','20'])#, rotation='vertical')\n",
    "\n",
    "\n",
    "divider = make_axes_locatable(ax3)\n",
    "#cax = divider.append_axes(\"right\", size=\"5%\", pad=0.05)\n",
    "cax = divider.new_horizontal(size=\"5%\", pad=0.05)\n",
    "fig = ax3.get_figure()\n",
    "fig.add_axes(cax)\n",
    "\n",
    "#plt.clim(0, 1.0)\n",
    "\n",
    "cbar = plt.colorbar(im,ticks=levels,cax=cax)\n",
    "cbar.set_label(r'FRC', rotation=270,labelpad=10)\n",
    "\n",
    "\n",
    "fig.tight_layout()\n",
    "\n",
    "fig.savefig('figure_s2.png', dpi=300) # dpi 300-200"
   ]
  }
 ],
 "metadata": {
  "anaconda-cloud": {},
  "kernelspec": {
   "display_name": "Python 3",
   "language": "python",
   "name": "python3"
  },
  "language_info": {
   "codemirror_mode": {
    "name": "ipython",
    "version": 3
   },
   "file_extension": ".py",
   "mimetype": "text/x-python",
   "name": "python",
   "nbconvert_exporter": "python",
   "pygments_lexer": "ipython3",
   "version": "3.7.2"
  },
  "nav_menu": {},
  "toc": {
   "navigate_menu": true,
   "number_sections": true,
   "sideBar": true,
   "threshold": 6,
   "toc_cell": false,
   "toc_section_display": "block",
   "toc_window_display": false
  }
 },
 "nbformat": 4,
 "nbformat_minor": 1
}
