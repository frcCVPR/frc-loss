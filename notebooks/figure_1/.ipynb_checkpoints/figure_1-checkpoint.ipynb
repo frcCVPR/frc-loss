{
 "cells": [
  {
   "cell_type": "code",
   "execution_count": 24,
   "metadata": {},
   "outputs": [],
   "source": [
    "import numpy as np\n",
    "import matplotlib.pyplot as plt\n",
    "\n",
    "from scipy.optimize import fsolve\n",
    "import scipy.fftpack\n",
    "import math\n",
    "import pdb\n",
    "\n",
    "import matplotlib\n",
    "from mpl_toolkits.axes_grid1 import make_axes_locatable\n",
    "\n",
    "matplotlib.rcParams.update({'mathtext.default':'regular'})\n",
    "\n",
    "matplotlib.rcParams.update({'font.size': 8})\n",
    "#matplotlib.rcParams.update({'font.weight': 'bold'})\n",
    "matplotlib.rcParams.update({'axes.labelsize': 8})\n",
    "matplotlib.rcParams.update({'axes.titlesize': 8})\n",
    "matplotlib.rcParams.update({'xtick.labelsize': 8})\n",
    "matplotlib.rcParams.update({'ytick.labelsize': 8})\n",
    "matplotlib.rcParams.update({'legend.fontsize': 8})\n",
    "matplotlib.rcParams.update({'axes.labelweight': 'bold'})\n",
    "#matplotlib.rcParams.update({'axes.legendweight': 'bold'})\n",
    "matplotlib.rcParams.update({'axes.titleweight': 'bold'})"
   ]
  },
  {
   "cell_type": "markdown",
   "metadata": {},
   "source": [
    "# 2D Image"
   ]
  },
  {
   "cell_type": "code",
   "execution_count": 8,
   "metadata": {},
   "outputs": [],
   "source": [
    "import pyfftw.interfaces.numpy_fft  "
   ]
  },
  {
   "cell_type": "code",
   "execution_count": 9,
   "metadata": {},
   "outputs": [],
   "source": [
    "np.fft = pyfftw.interfaces.numpy_fft "
   ]
  },
  {
   "cell_type": "code",
   "execution_count": 112,
   "metadata": {},
   "outputs": [],
   "source": [
    "image=plt.imread('/Users/rzepiela/eth/noise_manuscript/figure_1/c0911b81ee5266fa.jpg')\n",
    "image=np.sum(image, axis=2)\n",
    "image=image[:np.min(image.shape),:np.min(image.shape)]\n",
    "image= image.astype('float64')\n",
    "image=image[180:-180,180:-180 ]"
   ]
  },
  {
   "cell_type": "code",
   "execution_count": 11,
   "metadata": {},
   "outputs": [
    {
     "data": {
      "text/plain": [
       "(361, 361)"
      ]
     },
     "execution_count": 11,
     "metadata": {},
     "output_type": "execute_result"
    }
   ],
   "source": [
    "image.shape"
   ]
  },
  {
   "cell_type": "code",
   "execution_count": 12,
   "metadata": {},
   "outputs": [
    {
     "data": {
      "text/plain": [
       "360.5"
      ]
     },
     "execution_count": 12,
     "metadata": {},
     "output_type": "execute_result"
    }
   ],
   "source": [
    "721.0/2.0"
   ]
  },
  {
   "cell_type": "code",
   "execution_count": 113,
   "metadata": {},
   "outputs": [],
   "source": [
    "image = image - image.mean()\n",
    "image = image - image.min()\n",
    "image = image/image.max()\n",
    "#print(np.sum(np.abs(image)**2)) "
   ]
  },
  {
   "cell_type": "code",
   "execution_count": 114,
   "metadata": {},
   "outputs": [
    {
     "data": {
      "text/plain": [
       "(0.0, 1.0)"
      ]
     },
     "execution_count": 114,
     "metadata": {},
     "output_type": "execute_result"
    }
   ],
   "source": [
    "image.min(), image.max()"
   ]
  },
  {
   "cell_type": "code",
   "execution_count": 115,
   "metadata": {},
   "outputs": [
    {
     "data": {
      "text/plain": [
       "0.6057234442533497"
      ]
     },
     "execution_count": 115,
     "metadata": {},
     "output_type": "execute_result"
    }
   ],
   "source": [
    "image.mean()"
   ]
  },
  {
   "cell_type": "code",
   "execution_count": 15,
   "metadata": {},
   "outputs": [],
   "source": [
    "def radial_mask(r,\n",
    "                cx=10,\n",
    "                cy=10,\n",
    "                sx=np.arange(0, 21),\n",
    "                sy=np.arange(0, 21),\n",
    "                delta=1):\n",
    "    ind = (sx[np.newaxis, :] - cx)**2 + (sy[:, np.newaxis] - cy)**2\n",
    "    ind1 = ind <= ((r[0] + delta)**2)  # one liner for this and below?\n",
    "    ind2 = ind > (r[0]**2)\n",
    "    return ind1 * ind2"
   ]
  },
  {
   "cell_type": "code",
   "execution_count": 16,
   "metadata": {},
   "outputs": [],
   "source": [
    "#ind = (np.arange(0, 11)[np.newaxis,:]-5)**2 + (np.arange(0, 11)[:,np.newaxis]-5)**2"
   ]
  },
  {
   "cell_type": "code",
   "execution_count": 17,
   "metadata": {},
   "outputs": [],
   "source": [
    "#pd.DataFrame(ind)"
   ]
  },
  {
   "cell_type": "code",
   "execution_count": 18,
   "metadata": {},
   "outputs": [
    {
     "name": "stderr",
     "output_type": "stream",
     "text": [
      "/Users/rzepiela/anaconda/envs/py37_tf2/lib/python3.7/site-packages/ipykernel_launcher.py:2: DeprecationWarning: `np.int` is a deprecated alias for the builtin `int`. To silence this warning, use `int` by itself. Doing this will not modify any behavior and is safe. When replacing `np.int`, you may wish to use e.g. `np.int64` or `np.int32` to specify the precision. If you wish to review your current use, check the release note link for additional information.\n",
      "Deprecated in NumPy 1.20; for more details and guidance: https://numpy.org/devdocs/release/1.20.0-notes.html#deprecations\n",
      "  \n",
      "/Users/rzepiela/anaconda/envs/py37_tf2/lib/python3.7/site-packages/ipykernel_launcher.py:3: DeprecationWarning: `np.int` is a deprecated alias for the builtin `int`. To silence this warning, use `int` by itself. Doing this will not modify any behavior and is safe. When replacing `np.int`, you may wish to use e.g. `np.int64` or `np.int32` to specify the precision. If you wish to review your current use, check the release note link for additional information.\n",
      "Deprecated in NumPy 1.20; for more details and guidance: https://numpy.org/devdocs/release/1.20.0-notes.html#deprecations\n",
      "  This is separate from the ipykernel package so we can avoid doing imports until\n"
     ]
    }
   ],
   "source": [
    "#0,0 position is missing\n",
    "r=np.arange(np.int(227)).reshape(np.int(227),1) # How did I calculated that? What should be the total number of masks?\n",
    "radial_masks=np.apply_along_axis(radial_mask, 1, r, np.int(image.shape[0]/2), np.int(image.shape[0]/2), \\\n",
    "                                 np.arange(0, image.shape[0]), np.arange(0, image.shape[0]), 1 )\n",
    "\n",
    "#r=np.arange(np.int(image.shape[0]/2)).reshape(np.int(image.shape[0]/2),1)\n",
    "#radial_masks=np.apply_along_axis(radial_mask, 1, r, np.int(image.shape[0]/2), np.int(image.shape[0]/2), \\\n",
    "#                                 np.arange(0, image.shape[0]), np.arange(0, image.shape[0]), 1 )"
   ]
  },
  {
   "cell_type": "code",
   "execution_count": 19,
   "metadata": {},
   "outputs": [
    {
     "data": {
      "text/plain": [
       "(227, 361, 361)"
      ]
     },
     "execution_count": 19,
     "metadata": {},
     "output_type": "execute_result"
    }
   ],
   "source": [
    "radial_masks.shape"
   ]
  },
  {
   "cell_type": "code",
   "execution_count": 20,
   "metadata": {},
   "outputs": [
    {
     "data": {
      "text/plain": [
       "(361, 361)"
      ]
     },
     "execution_count": 20,
     "metadata": {},
     "output_type": "execute_result"
    }
   ],
   "source": [
    "image.shape"
   ]
  },
  {
   "cell_type": "markdown",
   "metadata": {},
   "source": [
    "## Image with the ring masks"
   ]
  },
  {
   "cell_type": "code",
   "execution_count": 116,
   "metadata": {},
   "outputs": [],
   "source": [
    "ft_2d=np.fft.fft2(image)\n",
    "ft_2d=np.fft.fftshift(ft_2d)\n",
    "ft_2d=np.abs(ft_2d)\n",
    "#ft_2d[180,180]= ft_2d.min()\n",
    "\n",
    "#ft_2d=ft_2d- ft_2d.min()\n",
    "#ft_2d = ft_2d/ft_2d.max()\n"
   ]
  },
  {
   "cell_type": "code",
   "execution_count": 117,
   "metadata": {},
   "outputs": [
    {
     "data": {
      "text/plain": [
       "(78938.48497854077, 0.0037172973194614842)"
      ]
     },
     "execution_count": 117,
     "metadata": {},
     "output_type": "execute_result"
    }
   ],
   "source": [
    "ft_2d.max(), ft_2d.min()"
   ]
  },
  {
   "cell_type": "code",
   "execution_count": 111,
   "metadata": {},
   "outputs": [
    {
     "data": {
      "text/plain": [
       "130321"
      ]
     },
     "execution_count": 111,
     "metadata": {},
     "output_type": "execute_result"
    }
   ],
   "source": [
    "len(ft_2d.flatten())"
   ]
  },
  {
   "cell_type": "code",
   "execution_count": 118,
   "metadata": {},
   "outputs": [
    {
     "data": {
      "text/plain": [
       "array([0.0037173 , 0.0037173 , 0.00808897, ..., 0.39978879, 0.39979471,\n",
       "       0.39979471])"
      ]
     },
     "execution_count": 118,
     "metadata": {},
     "output_type": "execute_result"
    }
   ],
   "source": [
    "np.sort(ft_2d.flatten())[:10000]"
   ]
  },
  {
   "cell_type": "code",
   "execution_count": 94,
   "metadata": {},
   "outputs": [
    {
     "data": {
      "text/plain": [
       "(array([179, 181]), array([180, 180]))"
      ]
     },
     "execution_count": 94,
     "metadata": {},
     "output_type": "execute_result"
    }
   ],
   "source": [
    "np.where(ft_2d==8679.47174589265)"
   ]
  },
  {
   "cell_type": "code",
   "execution_count": 128,
   "metadata": {},
   "outputs": [
    {
     "name": "stderr",
     "output_type": "stream",
     "text": [
      "/Users/rzepiela/anaconda/envs/py37_tf2/lib/python3.7/site-packages/ipykernel_launcher.py:22: RuntimeWarning: divide by zero encountered in log2\n"
     ]
    },
    {
     "data": {
      "image/png": "[encoded data removed]",
      "text/plain": [
       "<Figure size 252x122.4 with 3 Axes>"
      ]
     },
     "metadata": {
      "needs_background": "light"
     },
     "output_type": "display_data"
    }
   ],
   "source": [
    "from matplotlib import ticker, cm\n",
    "image_copy=image.copy()\n",
    "fig = plt.figure(figsize=(2*1.75, 1.7))\n",
    "#ax1 = fig.add_subplot(121)\n",
    "\n",
    "ax1 = plt.Axes(fig, [0.03, 0.02, 0.38, 0.95]) # this sets the position of a plot in a figure\n",
    "fig.add_axes(ax1)\n",
    "\n",
    "#image_copy[radial_masks[226]] = 1\n",
    "ax1.imshow(image_copy[:,:], cmap='gray')\n",
    "plt.xticks([])\n",
    "plt.yticks([])\n",
    "ax1.set_title('A', size=8)\n",
    "\n",
    "#ax2 = fig.add_subplot(122)\n",
    "ax2 = plt.Axes(fig, [0.44, 0.0, 0.415, 0.99]) # this sets the position of a plot in a figure\n",
    "fig.add_axes(ax2)\n",
    "\n",
    "ft_2d[radial_masks[170]] = 0\n",
    "ft_2d[radial_masks[85]] = 0\n",
    "ft_2d[radial_masks[42]] = 0\n",
    "im=ax2.imshow(np.log2(ft_2d), cmap='twilight_shifted')#cm.tab20)#gist_ncar)#prism)\n",
    "plt.xticks([])\n",
    "plt.yticks([])\n",
    "\n",
    "divider = make_axes_locatable(ax2)\n",
    "#cax = divider.append_axes(\"right\", size=\"5%\", pad=0.05)\n",
    "cax = divider.new_horizontal(size=\"5%\", pad=0.05)\n",
    "fig = ax2.get_figure()\n",
    "fig.add_axes(cax)\n",
    "\n",
    "cbar = plt.colorbar(im ,cax=cax)\n",
    "cbar.set_label(r'$Log_2$ magnitude', rotation=270,labelpad=10)\n",
    "\n",
    "ax2.set_title('B')\n",
    "\n",
    "# https://moonbooks.org/Articles/How-to-convert-an-image-to-grayscale-using-python-/\n",
    "\n",
    "fig.savefig('figure_1.png', dpi=300) # dpi 300-200 "
   ]
  },
  {
   "cell_type": "code",
   "execution_count": 31,
   "metadata": {},
   "outputs": [
    {
     "name": "stderr",
     "output_type": "stream",
     "text": [
      "/Users/rzepiela/anaconda/envs/py37_tf2/lib/python3.7/site-packages/ipykernel_launcher.py:1: RuntimeWarning: divide by zero encountered in log2\n",
      "  \"\"\"Entry point for launching an IPython kernel.\n"
     ]
    },
    {
     "data": {
      "text/plain": [
       "-inf"
      ]
     },
     "execution_count": 31,
     "metadata": {},
     "output_type": "execute_result"
    }
   ],
   "source": [
    "np.log2(ft_2d).min()"
   ]
  }
 ],
 "metadata": {
  "anaconda-cloud": {},
  "kernelspec": {
   "display_name": "Python [conda env:py37_tf2] *",
   "language": "python",
   "name": "conda-env-py37_tf2-py"
  },
  "language_info": {
   "codemirror_mode": {
    "name": "ipython",
    "version": 3
   },
   "file_extension": ".py",
   "mimetype": "text/x-python",
   "name": "python",
   "nbconvert_exporter": "python",
   "pygments_lexer": "ipython3",
   "version": "3.7.5"
  },
  "nav_menu": {},
  "toc": {
   "navigate_menu": true,
   "number_sections": true,
   "sideBar": true,
   "threshold": 6,
   "toc_cell": false,
   "toc_section_display": "block",
   "toc_window_display": false
  }
 },
 "nbformat": 4,
 "nbformat_minor": 1
}
