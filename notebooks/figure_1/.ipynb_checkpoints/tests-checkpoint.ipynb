{
 "cells": [
  {
   "cell_type": "code",
   "execution_count": 1,
   "metadata": {
    "collapsed": true
   },
   "outputs": [],
   "source": [
    "import skimage\n",
    "%matplotlib inline\n",
    "import matplotlib.pyplot as plt\n",
    "from skimage.io import imread\n",
    "\n",
    "import cv2\n",
    "import numpy as np\n",
    "\n",
    "import time \n",
    "import matplotlib\n",
    "\n",
    "import pickle\n",
    "\n",
    "matplotlib.rcParams.update({'mathtext.default':'regular'})\n",
    "\n",
    "matplotlib.rcParams.update({'font.size': 8})\n",
    "#matplotlib.rcParams.update({'font.weight': 'bold'})\n",
    "matplotlib.rcParams.update({'axes.labelsize': 8})\n",
    "matplotlib.rcParams.update({'axes.titlesize': 8})\n",
    "matplotlib.rcParams.update({'xtick.labelsize': 8})\n",
    "matplotlib.rcParams.update({'ytick.labelsize': 8})\n",
    "matplotlib.rcParams.update({'legend.fontsize': 8})\n",
    "matplotlib.rcParams.update({'axes.labelweight': 'bold'})\n",
    "#matplotlib.rcParams.update({'axes.legendweight': 'bold'})\n",
    "#matplotlib.rcParams.update({'axes.titleweight': 'bold'})"
   ]
  },
  {
   "cell_type": "code",
   "execution_count": 2,
   "metadata": {
    "collapsed": true
   },
   "outputs": [],
   "source": [
    "data = pickle.load( open( \"./c0911b81ee5266fa.jpg\", \"rb\" ) )"
   ]
  },
  {
   "cell_type": "code",
   "execution_count": 3,
   "metadata": {
    "collapsed": true
   },
   "outputs": [],
   "source": [
    "data = pd.DataFrame(data)"
   ]
  },
  {
   "cell_type": "code",
   "execution_count": 4,
   "metadata": {},
   "outputs": [
    {
     "data": {
      "text/html": [
       "<div>\n",
       "<style scoped>\n",
       "    .dataframe tbody tr th:only-of-type {\n",
       "        vertical-align: middle;\n",
       "    }\n",
       "\n",
       "    .dataframe tbody tr th {\n",
       "        vertical-align: top;\n",
       "    }\n",
       "\n",
       "    .dataframe thead th {\n",
       "        text-align: right;\n",
       "    }\n",
       "</style>\n",
       "<table border=\"1\" class=\"dataframe\">\n",
       "  <thead>\n",
       "    <tr style=\"text-align: right;\">\n",
       "      <th></th>\n",
       "      <th>BM3D</th>\n",
       "      <th>N2N</th>\n",
       "      <th>Noisy</th>\n",
       "      <th>Noisy-Noisy</th>\n",
       "      <th>N2C</th>\n",
       "      <th>BSDS300</th>\n",
       "      <th>Gaussian</th>\n",
       "    </tr>\n",
       "  </thead>\n",
       "  <tbody>\n",
       "    <tr>\n",
       "      <th>0</th>\n",
       "      <td>0.964113</td>\n",
       "      <td>0.977112</td>\n",
       "      <td>0.991718</td>\n",
       "      <td>0.880778</td>\n",
       "      <td>0.995181</td>\n",
       "      <td>0.971525</td>\n",
       "      <td>0.999895</td>\n",
       "    </tr>\n",
       "    <tr>\n",
       "      <th>1</th>\n",
       "      <td>0.950948</td>\n",
       "      <td>0.967972</td>\n",
       "      <td>0.985833</td>\n",
       "      <td>0.827413</td>\n",
       "      <td>0.992337</td>\n",
       "      <td>0.961402</td>\n",
       "      <td>0.999786</td>\n",
       "    </tr>\n",
       "    <tr>\n",
       "      <th>2</th>\n",
       "      <td>0.937420</td>\n",
       "      <td>0.957259</td>\n",
       "      <td>0.976179</td>\n",
       "      <td>0.772157</td>\n",
       "      <td>0.987122</td>\n",
       "      <td>0.946028</td>\n",
       "      <td>0.999541</td>\n",
       "    </tr>\n",
       "    <tr>\n",
       "      <th>3</th>\n",
       "      <td>0.923023</td>\n",
       "      <td>0.947292</td>\n",
       "      <td>0.965163</td>\n",
       "      <td>0.715588</td>\n",
       "      <td>0.982440</td>\n",
       "      <td>0.934375</td>\n",
       "      <td>0.999209</td>\n",
       "    </tr>\n",
       "    <tr>\n",
       "      <th>4</th>\n",
       "      <td>0.907691</td>\n",
       "      <td>0.935925</td>\n",
       "      <td>0.949707</td>\n",
       "      <td>0.661402</td>\n",
       "      <td>0.974792</td>\n",
       "      <td>0.918334</td>\n",
       "      <td>0.998724</td>\n",
       "    </tr>\n",
       "  </tbody>\n",
       "</table>\n",
       "</div>"
      ],
      "text/plain": [
       "       BM3D       N2N     Noisy  Noisy-Noisy       N2C   BSDS300  Gaussian\n",
       "0  0.964113  0.977112  0.991718     0.880778  0.995181  0.971525  0.999895\n",
       "1  0.950948  0.967972  0.985833     0.827413  0.992337  0.961402  0.999786\n",
       "2  0.937420  0.957259  0.976179     0.772157  0.987122  0.946028  0.999541\n",
       "3  0.923023  0.947292  0.965163     0.715588  0.982440  0.934375  0.999209\n",
       "4  0.907691  0.935925  0.949707     0.661402  0.974792  0.918334  0.998724"
      ]
     },
     "execution_count": 4,
     "metadata": {},
     "output_type": "execute_result"
    }
   ],
   "source": [
    "data.head()"
   ]
  },
  {
   "cell_type": "code",
   "execution_count": 16,
   "metadata": {},
   "outputs": [
    {
     "name": "stderr",
     "output_type": "stream",
     "text": [
      "/Users/rzepiela/anaconda/envs/py36_ts_pytorch/lib/python3.6/site-packages/matplotlib/figure.py:2267: UserWarning: This figure includes Axes that are not compatible with tight_layout, so results might be incorrect.\n",
      "  warnings.warn(\"This figure includes Axes that are not compatible \"\n"
     ]
    },
    {
     "data": {
      "image/png": "[encoded data removed]",
      "text/plain": [
       "<Figure size 252x216 with 1 Axes>"
      ]
     },
     "metadata": {},
     "output_type": "display_data"
    }
   ],
   "source": [
    "fig = plt.figure()\n",
    "fig.set_size_inches(3.5, 3.0) # 3.5 inch is the width of one column in A4 paper \n",
    "#ax = fig.add_subplot(111)\n",
    "ax = plt.Axes(fig, [0.17, 0.15, 0.81, 0.83]) # this sets the position of a plot in a figure\n",
    "fig.add_axes(ax)\n",
    "\n",
    "legend_properties = { 'size':6}\n",
    "\n",
    "ax.plot(data.index/data.index.max(),data['Noisy-Noisy'] , label='Noisy-Noisy', lw=1.5, c='red')\n",
    "ax.plot(data.index/data.index.max(),data['Noisy'] , label='Noisy-GT', lw=1.5, c='green')\n",
    "ax.plot(data.index/data.index.max(),data['Gaussian'] , label='GFilter-GT', lw=1.5, c='brown', ls='dotted')\n",
    "ax.plot(data.index/data.index.max(),data['BSDS300'] , label='N2N(BSDS300)-GT', lw=1.5, c='gray', ls='dashed')\n",
    "ax.plot(data.index/data.index.max(),data['BM3D'] , label='BM3D-GT', lw=1.5)\n",
    "ax.plot(data.index/data.index.max(),data['N2N'] , label='N2N(GOI)-GT', lw=1.5, c='orange')\n",
    "ax.plot(data.index/data.index.max(),data['N2C'] , label='N2C(GOI)-GT', lw=1.5, c='purple')\n",
    "\n",
    "ax.set_xlabel('f/N')\n",
    "ax.set_ylabel('FRC')\n",
    "\n",
    "plt.locator_params(axis='y', nbins=5)\n",
    "plt.locator_params(axis='x', nbins=5)\n",
    "plt.ylim([-0.03,1.05])\n",
    "plt.xlim([-0.03,1.05])\n",
    "\n",
    "ax.legend(prop=legend_properties, loc=1, ncol=2, )\n",
    "fig.tight_layout()\n",
    "#plt.xscale((data[0]/data[0].max()).min(), 1.1)\n",
    "\n",
    "fig.savefig('figure_2.png', dpi=300) # dpi 300-200 \n",
    "\n",
    "locs, labels = plt.xticks()"
   ]
  },
  {
   "cell_type": "code",
   "execution_count": 6,
   "metadata": {},
   "outputs": [
    {
     "data": {
      "text/plain": [
       "0.008"
      ]
     },
     "execution_count": 6,
     "metadata": {},
     "output_type": "execute_result"
    }
   ],
   "source": [
    "1/125.0"
   ]
  },
  {
   "cell_type": "code",
   "execution_count": 7,
   "metadata": {},
   "outputs": [
    {
     "data": {
      "text/plain": [
       "array([-0.25,  0.  ,  0.25,  0.5 ,  0.75,  1.  ,  1.25])"
      ]
     },
     "execution_count": 7,
     "metadata": {},
     "output_type": "execute_result"
    }
   ],
   "source": [
    "locs"
   ]
  }
 ],
 "metadata": {
  "anaconda-cloud": {},
  "kernelspec": {
   "display_name": "Python [conda env:py36_ts_pytorch]",
   "language": "python",
   "name": "conda-env-py36_ts_pytorch-py"
  },
  "language_info": {
   "codemirror_mode": {
    "name": "ipython",
    "version": 3
   },
   "file_extension": ".py",
   "mimetype": "text/x-python",
   "name": "python",
   "nbconvert_exporter": "python",
   "pygments_lexer": "ipython3",
   "version": "3.6.5"
  },
  "nav_menu": {},
  "toc": {
   "navigate_menu": true,
   "number_sections": true,
   "sideBar": true,
   "threshold": 6,
   "toc_cell": false,
   "toc_section_display": "block",
   "toc_window_display": false
  }
 },
 "nbformat": 4,
 "nbformat_minor": 1
}
